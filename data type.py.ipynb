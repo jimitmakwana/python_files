{
 "cells": [
  {
   "cell_type": "code",
   "execution_count": 3,
   "id": "7c9f07bf",
   "metadata": {},
   "outputs": [],
   "source": [
    " #python_datatypes"
   ]
  },
  {
   "cell_type": "code",
   "execution_count": 5,
   "id": "9d546c91",
   "metadata": {},
   "outputs": [],
   "source": [
    "#int =10\n",
    "#str =jimit\n",
    "#float =20.4\n",
    "#complex=6+2j\n"
   ]
  },
  {
   "cell_type": "code",
   "execution_count": 6,
   "id": "401e74fa",
   "metadata": {},
   "outputs": [
    {
     "name": "stdout",
     "output_type": "stream",
     "text": [
      "23 jmit\n"
     ]
    }
   ],
   "source": [
    "a=23\n",
    "b=\"jmit\"\n",
    "print(a,b)\n",
    "    "
   ]
  },
  {
   "cell_type": "code",
   "execution_count": 11,
   "id": "fb074f4b",
   "metadata": {},
   "outputs": [
    {
     "name": "stdout",
     "output_type": "stream",
     "text": [
      "<class 'int'>\n"
     ]
    }
   ],
   "source": [
    "a=45\n",
    "print(type(a))"
   ]
  },
  {
   "cell_type": "code",
   "execution_count": 13,
   "id": "9c17cb5d",
   "metadata": {},
   "outputs": [
    {
     "name": "stdout",
     "output_type": "stream",
     "text": [
      "<class 'float'>\n"
     ]
    }
   ],
   "source": [
    "b=67.8\n",
    "print(type(b))"
   ]
  },
  {
   "cell_type": "code",
   "execution_count": 14,
   "id": "1e2b281d",
   "metadata": {},
   "outputs": [
    {
     "name": "stdout",
     "output_type": "stream",
     "text": [
      "<class 'str'>\n"
     ]
    }
   ],
   "source": [
    "c=\"jimit\"\n",
    "print(type(c))"
   ]
  },
  {
   "cell_type": "code",
   "execution_count": 15,
   "id": "2566efb2",
   "metadata": {},
   "outputs": [
    {
     "name": "stdout",
     "output_type": "stream",
     "text": [
      "12 34.6 jimit (6, 2)\n",
      "this are the the type of: <class 'int'>\n",
      "this are the the type of: <class 'str'>\n",
      "this are the the type of: <class 'float'>\n"
     ]
    }
   ],
   "source": [
    "a=12\n",
    "b=\"jimit\"\n",
    "c=34.6\n",
    "d=complex=(6,2)\n",
    "print(a,c,b,d)\n",
    "print(\"this are the the type of:\",type(a))\n",
    "print(\"this are the the type of:\",type(b))\n",
    "print(\"this are the the type of:\",type(c))"
   ]
  },
  {
   "cell_type": "code",
   "execution_count": null,
   "id": "c78c6452",
   "metadata": {},
   "outputs": [],
   "source": []
  }
 ],
 "metadata": {
  "kernelspec": {
   "display_name": "Python 3 (ipykernel)",
   "language": "python",
   "name": "python3"
  },
  "language_info": {
   "codemirror_mode": {
    "name": "ipython",
    "version": 3
   },
   "file_extension": ".py",
   "mimetype": "text/x-python",
   "name": "python",
   "nbconvert_exporter": "python",
   "pygments_lexer": "ipython3",
   "version": "3.9.13"
  }
 },
 "nbformat": 4,
 "nbformat_minor": 5
}
