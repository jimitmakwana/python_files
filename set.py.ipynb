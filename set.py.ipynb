{
 "cells": [
  {
   "cell_type": "code",
   "execution_count": null,
   "id": "5d36bdff",
   "metadata": {},
   "outputs": [],
   "source": [
    "# set is data structure which is also calld collection of items,in which we can represent a group of unique as a single entity"
   ]
  },
  {
   "cell_type": "code",
   "execution_count": null,
   "id": "c1bad532",
   "metadata": {},
   "outputs": [],
   "source": [
    "#syntex=set_name={iteam1,iteam2,iteam3.....iteam4}"
   ]
  },
  {
   "cell_type": "code",
   "execution_count": null,
   "id": "e091601c",
   "metadata": {},
   "outputs": [],
   "source": [
    "var={'jimit',45.6,56}\n"
   ]
  },
  {
   "cell_type": "code",
   "execution_count": null,
   "id": "8552d4a8",
   "metadata": {},
   "outputs": [
    {
     "data": {
      "text/plain": [
       "{45.6, 56, 'jimit'}"
      ]
     },
     "execution_count": 24,
     "metadata": {},
     "output_type": "execute_result"
    }
   ],
   "source": [
    "var"
   ]
  },
  {
   "cell_type": "code",
   "execution_count": null,
   "id": "d3b1fda6",
   "metadata": {},
   "outputs": [
    {
     "data": {
      "text/plain": [
       "-1"
      ]
     },
     "execution_count": 17,
     "metadata": {},
     "output_type": "execute_result"
    }
   ],
   "source": [
    "var[-1]"
   ]
  },
  {
   "cell_type": "code",
   "execution_count": null,
   "id": "c162df06",
   "metadata": {},
   "outputs": [
    {
     "data": {
      "text/plain": [
       "list"
      ]
     },
     "execution_count": 18,
     "metadata": {},
     "output_type": "execute_result"
    }
   ],
   "source": [
    "type(var)"
   ]
  },
  {
   "cell_type": "code",
   "execution_count": null,
   "id": "ddd1addf",
   "metadata": {},
   "outputs": [],
   "source": [
    "var={'jimit',45.7,45,True}\n"
   ]
  },
  {
   "cell_type": "code",
   "execution_count": null,
   "id": "1d0f59cc",
   "metadata": {},
   "outputs": [
    {
     "data": {
      "text/plain": [
       "{45, 45.7, True, 'jimit'}"
      ]
     },
     "execution_count": 41,
     "metadata": {},
     "output_type": "execute_result"
    }
   ],
   "source": [
    "var"
   ]
  },
  {
   "cell_type": "code",
   "execution_count": null,
   "id": "d81c5ef3",
   "metadata": {},
   "outputs": [
    {
     "data": {
      "text/plain": [
       "set"
      ]
     },
     "execution_count": 43,
     "metadata": {},
     "output_type": "execute_result"
    }
   ],
   "source": [
    "type(var)"
   ]
  },
  {
   "cell_type": "code",
   "execution_count": null,
   "id": "9d363c23",
   "metadata": {},
   "outputs": [
    {
     "data": {
      "text/plain": [
       "-1"
      ]
     },
     "execution_count": 69,
     "metadata": {},
     "output_type": "execute_result"
    }
   ],
   "source": [
    "var[-1]"
   ]
  },
  {
   "cell_type": "code",
   "execution_count": null,
   "id": "addc5c73",
   "metadata": {},
   "outputs": [],
   "source": [
    "jim1={\"rohir\",\"harsh\",1,\"div\"}"
   ]
  },
  {
   "cell_type": "code",
   "execution_count": null,
   "id": "72008e31",
   "metadata": {},
   "outputs": [
    {
     "data": {
      "text/plain": [
       "{1, 'div', 'harsh', 'rohir'}"
      ]
     },
     "execution_count": 100,
     "metadata": {},
     "output_type": "execute_result"
    }
   ],
   "source": [
    "jim1"
   ]
  },
  {
   "cell_type": "code",
   "execution_count": null,
   "id": "607eeefd",
   "metadata": {},
   "outputs": [],
   "source": [
    "jim1=[-2]"
   ]
  },
  {
   "cell_type": "code",
   "execution_count": null,
   "id": "18f2773f",
   "metadata": {},
   "outputs": [],
   "source": [
    "s1={1,2,3,4}\n",
    "s2={4,6,3,5}\n"
   ]
  },
  {
   "cell_type": "code",
   "execution_count": null,
   "id": "350fe584",
   "metadata": {},
   "outputs": [
    {
     "data": {
      "text/plain": [
       "{1, 2, 3, 4, 5, 6}"
      ]
     },
     "execution_count": 189,
     "metadata": {},
     "output_type": "execute_result"
    }
   ],
   "source": [
    "(s1.union(s2))#imp"
   ]
  },
  {
   "cell_type": "code",
   "execution_count": null,
   "id": "f739c95a",
   "metadata": {},
   "outputs": [
    {
     "data": {
      "text/plain": [
       "({1, 2, 3, 4}, {3, 4, 5, 6})"
      ]
     },
     "execution_count": 154,
     "metadata": {},
     "output_type": "execute_result"
    }
   ],
   "source": [
    "(s1, s2)"
   ]
  },
  {
   "cell_type": "code",
   "execution_count": null,
   "id": "c895d44f",
   "metadata": {},
   "outputs": [],
   "source": [
    "jimit1={\"jimit\",\"rohir\",\"rahul\"}\n",
    "jimit2={\"amit\",\"jimit\",\"virt\"}\n"
   ]
  },
  {
   "cell_type": "code",
   "execution_count": null,
   "id": "efd8d9ad",
   "metadata": {},
   "outputs": [
    {
     "data": {
      "text/plain": [
       "({'jimit', 'rahul', 'rohir'}, {'amit', 'jimit', 'virt'})"
      ]
     },
     "execution_count": 172,
     "metadata": {},
     "output_type": "execute_result"
    }
   ],
   "source": [
    "(jimit1,jimit2)"
   ]
  },
  {
   "cell_type": "code",
   "execution_count": null,
   "id": "9b80f09f",
   "metadata": {},
   "outputs": [
    {
     "data": {
      "text/plain": [
       "{'jimit'}"
      ]
     },
     "execution_count": 173,
     "metadata": {},
     "output_type": "execute_result"
    }
   ],
   "source": [
    "(jimit1.intersection(jimit2))#imp"
   ]
  },
  {
   "cell_type": "code",
   "execution_count": null,
   "id": "8f0e529a",
   "metadata": {},
   "outputs": [],
   "source": [
    "jimit1={\"jimit\",\"rohir\",\"rahul\"}\n",
    "jimit2={\"amit\",\"jimit\",\"virt\"}\n"
   ]
  },
  {
   "cell_type": "code",
   "execution_count": null,
   "id": "7dc275b6",
   "metadata": {},
   "outputs": [
    {
     "data": {
      "text/plain": [
       "({'jimit', 'rahul', 'rohir'}, {'amit', 'jimit', 'virt'})"
      ]
     },
     "execution_count": 184,
     "metadata": {},
     "output_type": "execute_result"
    }
   ],
   "source": [
    "(jimit1,jimit2)"
   ]
  },
  {
   "cell_type": "code",
   "execution_count": null,
   "id": "7121cf88",
   "metadata": {},
   "outputs": [],
   "source": [
    "jimit1.intersection_update(jimit2)#imp"
   ]
  },
  {
   "cell_type": "code",
   "execution_count": null,
   "id": "ba40666e",
   "metadata": {},
   "outputs": [
    {
     "data": {
      "text/plain": [
       "{'jimit'}"
      ]
     },
     "execution_count": 186,
     "metadata": {},
     "output_type": "execute_result"
    }
   ],
   "source": [
    "jimit1"
   ]
  },
  {
   "cell_type": "code",
   "execution_count": null,
   "id": "844ca2aa",
   "metadata": {},
   "outputs": [
    {
     "data": {
      "text/plain": [
       "{'amit', 'jimit', 'virt'}"
      ]
     },
     "execution_count": 187,
     "metadata": {},
     "output_type": "execute_result"
    }
   ],
   "source": [
    "jimit1.union(jimit2)"
   ]
  },
  {
   "cell_type": "code",
   "execution_count": null,
   "id": "d080f368",
   "metadata": {},
   "outputs": [
    {
     "data": {
      "text/plain": [
       "{'amit', 'virt'}"
      ]
     },
     "execution_count": 188,
     "metadata": {},
     "output_type": "execute_result"
    }
   ],
   "source": [
    "jimit1.symmetric_differen(jimit2)#imp"
   ]
  }
 ],
 "metadata": {
  "kernelspec": {
   "display_name": "Python 3 (ipykernel)",
   "language": "python",
   "name": "python3"
  },
  "language_info": {
   "codemirror_mode": {
    "name": "ipython",
    "version": 3
   },
   "file_extension": ".py",
   "mimetype": "text/x-python",
   "name": "python",
   "nbconvert_exporter": "python",
   "pygments_lexer": "ipython3",
   "version": "3.9.12"
  }
 },
 "nbformat": 4,
 "nbformat_minor": 5
}
