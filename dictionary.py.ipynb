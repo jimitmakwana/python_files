{
 "cells": [
  {
   "cell_type": "code",
   "execution_count": 17,
   "id": "72a2cf33",
   "metadata": {},
   "outputs": [
    {
     "name": "stdout",
     "output_type": "stream",
     "text": [
      "student\n"
     ]
    }
   ],
   "source": [
    "dic={\n",
    "    \n",
    "    54: \"student\",\n",
    "    65: \"sur\",\n",
    "    75: \"cricketr\"\n",
    "        \n",
    "}\n",
    "\n",
    "print(dic[54])"
   ]
  },
  {
   "cell_type": "code",
   "execution_count": 19,
   "id": "eddce832",
   "metadata": {},
   "outputs": [],
   "source": [
    "stu={'name':'jimit','age':43,'eligible':True}"
   ]
  },
  {
   "cell_type": "code",
   "execution_count": 20,
   "id": "d6a8d533",
   "metadata": {},
   "outputs": [
    {
     "name": "stdout",
     "output_type": "stream",
     "text": [
      "{'name': 'jimit', 'age': 43, 'eligible': True}\n"
     ]
    }
   ],
   "source": [
    "print(stu)"
   ]
  },
  {
   "cell_type": "code",
   "execution_count": 22,
   "id": "8e8b633e",
   "metadata": {
    "scrolled": true
   },
   "outputs": [
    {
     "name": "stdout",
     "output_type": "stream",
     "text": [
      "jimit\n"
     ]
    }
   ],
   "source": [
    "print(stu['name'])"
   ]
  },
  {
   "cell_type": "code",
   "execution_count": 23,
   "id": "aefefcac",
   "metadata": {},
   "outputs": [
    {
     "name": "stdout",
     "output_type": "stream",
     "text": [
      "43\n"
     ]
    }
   ],
   "source": [
    "print(stu['age'])"
   ]
  },
  {
   "cell_type": "code",
   "execution_count": 24,
   "id": "65574cae",
   "metadata": {},
   "outputs": [
    {
     "name": "stdout",
     "output_type": "stream",
     "text": [
      "True\n"
     ]
    }
   ],
   "source": [
    "print(stu['eligible'])"
   ]
  },
  {
   "cell_type": "code",
   "execution_count": null,
   "id": "38f85c29",
   "metadata": {},
   "outputs": [],
   "source": [
    "#accessing multipal values"
   ]
  },
  {
   "cell_type": "code",
   "execution_count": 27,
   "id": "c499e163",
   "metadata": {},
   "outputs": [
    {
     "name": "stdout",
     "output_type": "stream",
     "text": [
      "dict_keys(['name', 'age', 'eligible'])\n"
     ]
    }
   ],
   "source": [
    "print(stu.keys())"
   ]
  },
  {
   "cell_type": "code",
   "execution_count": 28,
   "id": "ed240aac",
   "metadata": {},
   "outputs": [
    {
     "name": "stdout",
     "output_type": "stream",
     "text": [
      "dict_values(['jimit', 43, True])\n"
     ]
    }
   ],
   "source": [
    "print(stu.values())"
   ]
  },
  {
   "cell_type": "code",
   "execution_count": 29,
   "id": "cd624f3d",
   "metadata": {},
   "outputs": [
    {
     "name": "stdout",
     "output_type": "stream",
     "text": [
      "dict_items([('name', 'jimit'), ('age', 43), ('eligible', True)])\n"
     ]
    }
   ],
   "source": [
    "print(stu.items())"
   ]
  },
  {
   "cell_type": "code",
   "execution_count": null,
   "id": "0bb1077c",
   "metadata": {},
   "outputs": [],
   "source": []
  },
  {
   "cell_type": "code",
   "execution_count": null,
   "id": "fe3c6869",
   "metadata": {},
   "outputs": [],
   "source": []
  }
 ],
 "metadata": {
  "kernelspec": {
   "display_name": "Python 3 (ipykernel)",
   "language": "python",
   "name": "python3"
  },
  "language_info": {
   "codemirror_mode": {
    "name": "ipython",
    "version": 3
   },
   "file_extension": ".py",
   "mimetype": "text/x-python",
   "name": "python",
   "nbconvert_exporter": "python",
   "pygments_lexer": "ipython3",
   "version": "3.9.13"
  }
 },
 "nbformat": 4,
 "nbformat_minor": 5
}
